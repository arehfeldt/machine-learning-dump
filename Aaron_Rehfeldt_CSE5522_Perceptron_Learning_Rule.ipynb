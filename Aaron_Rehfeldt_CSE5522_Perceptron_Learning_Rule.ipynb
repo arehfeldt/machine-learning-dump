{
  "nbformat": 4,
  "nbformat_minor": 0,
  "metadata": {
    "colab": {
      "provenance": [],
      "include_colab_link": true
    },
    "kernelspec": {
      "name": "python3",
      "display_name": "Python 3"
    }
  },
  "cells": [
    {
      "cell_type": "markdown",
      "metadata": {
        "id": "view-in-github",
        "colab_type": "text"
      },
      "source": [
        "<a href=\"https://colab.research.google.com/github/arehfeldt/machine-learning-dump/blob/main/Aaron_Rehfeldt_CSE5522_Perceptron_Learning_Rule.ipynb\" target=\"_parent\"><img src=\"https://colab.research.google.com/assets/colab-badge.svg\" alt=\"Open In Colab\"/></a>"
      ]
    },
    {
      "cell_type": "markdown",
      "metadata": {
        "id": "5uQ78FQhx29R"
      },
      "source": [
        "# Perceptron Learning\n",
        "\n",
        "**Overview**\n",
        "\n",
        "The perceptron learning rule is a simple method for training a linear classifier.\n",
        "\n",
        "The basic idea is: when you classify something incorrectly, move the linear classifier a bit in a way that updates the boundary line.  This is related to the gradient descent algorithm used for linear regression.\n",
        "\n",
        "In the first part of the exercise, you will learn the \"and\" function to show the basic operation of the PLR, and in the second you'll try to classify some vowels.\n",
        "\n",
        "There is an optional part to play around with PyTorch, a toolkit that can be used to quickly learn neural networks.  I'll provide a quick walkthrough for learning the XOR problem (based on some code from U. Washington); see if you can adapt this to the vowel classification problem.\n",
        "\n",
        "**Part 1**\n",
        "\n",
        "In the first part of the hands-on, you'll code the Perceptron Learning Rule (PLR) algorithm."
      ]
    },
    {
      "cell_type": "code",
      "metadata": {
        "id": "BnYO6oisBzPQ",
        "colab": {
          "base_uri": "https://localhost:8080/",
          "height": 265
        },
        "outputId": "288c36c1-13e5-47b1-8656-2c7a86590767"
      },
      "source": [
        "# set up some preliminaries\n",
        "\n",
        "import numpy as np\n",
        "import matplotlib.pyplot as plt\n",
        "\n",
        "# set classification data for \"and\"\n",
        "data=np.array([[0,0],[0,1],[1,0],[1,1]])\n",
        "targets=np.array([0,1,1,1])\n",
        "bias=-1\n",
        "\n",
        "# set some initial weights : w1, w2, bias\n",
        "weights_init=np.array([-1,1,0.5])\n",
        "\n",
        "# here is a function for plotting both the dataset and the current decision\n",
        "# boundary, with errors in red\n",
        "def plotgraph(data,targets,weights):\n",
        "  classification=(np.sign(np.dot(np.hstack((data,np.ones((data.shape[0],1))*bias)),weights))+1)/2\n",
        "\n",
        "  plt.plot(data[np.logical_and(targets==1,classification==1),0],\n",
        "           data[np.logical_and(targets==1,classification==1),1],'bo')\n",
        "  plt.plot(data[np.logical_and(targets==1,classification==0),0],\n",
        "           data[np.logical_and(targets==1,classification==0),1],'ro')\n",
        "  plt.plot(data[np.logical_and(targets==0,classification==1),0],\n",
        "           data[np.logical_and(targets==0,classification==1),1],'rx')\n",
        "  plt.plot(data[np.logical_and(targets==0,classification==0),0],\n",
        "           data[np.logical_and(targets==0,classification==0),1],'bx')\n",
        "\n",
        "  # note weights are in form w_1*x + w_2*y + w_b = 0\n",
        "  # so to plot line we need y= -(w_1*x + w_b)/(w_2)\n",
        "  dmin=np.min(data[:,0])\n",
        "  dmax=np.max(data[:,0])\n",
        "  plt.plot(np.array([dmin,dmax]),\n",
        "           np.array([-(dmin*weights[0]+weights[2]*bias)/(weights[1]),\n",
        "                     -(dmax*weights[0]+weights[2]*bias)/(weights[1])]),\n",
        "           'b--'\n",
        "           )\n",
        "\n",
        "\n",
        "#Plot the current situation.  Red items are misclassified, blue\n",
        "#correctly classified. x=0, circle=1.\n",
        "plotgraph(data,targets,weights_init)\n",
        "\n"
      ],
      "execution_count": null,
      "outputs": [
        {
          "output_type": "display_data",
          "data": {
            "image/png": "[encoded data removed]",
            "text/plain": [
              "<Figure size 432x288 with 1 Axes>"
            ]
          },
          "metadata": {
            "tags": [],
            "needs_background": "light"
          }
        }
      ]
    },
    {
      "cell_type": "markdown",
      "metadata": {
        "id": "hpBjACAdzlG0"
      },
      "source": [
        "**1.1** This is where you will need to code the perceptron learning algorithm.\n",
        "\n",
        "You should assume that the nonlinear function is a step function that outputs 1 if the input is greater than 0, and 0 otherwise.\n",
        "\n",
        "Remember that there should be a bias.  You can choose to define the fixed bias as -1 (as traditionally done) or 1.  Note if you change the bias you may need to pay attention to the plotting function above.\n",
        "\n",
        "The function should return the updated weight vector.  "
      ]
    },
    {
      "cell_type": "code",
      "metadata": {
        "id": "UZEDDtyaAE-B"
      },
      "source": [
        "def step(x):\n",
        "  return (np.sign(x)+1)/2\n",
        "\n",
        "def plr(weights,example,target,learningrate):\n",
        "  example=np.hstack((example,bias)) #Add bias as extra \"input\"\n",
        "  o=step(np.dot(example,weights))\n",
        "  # compute weight update\n",
        "  e=target-o\n",
        "  new_weights=weights+learningrate*e*example\n",
        "  # return updated weights\n",
        "  return new_weights\n"
      ],
      "execution_count": null,
      "outputs": []
    },
    {
      "cell_type": "markdown",
      "metadata": {
        "id": "CKLlwQtH1dO9"
      },
      "source": [
        "**1.2** The following function will randomize your training examples, and run the PLR for each example."
      ]
    },
    {
      "cell_type": "code",
      "metadata": {
        "id": "K9u9zBAZ1TzX"
      },
      "source": [
        "def run_epoch(weights,data,targets,learningrate):\n",
        "  nexamples=data.shape[0]\n",
        "  order=np.random.permutation(nexamples)\n",
        "  for i in range(nexamples):\n",
        "    weights=plr(weights,data[order[i]],targets[order[i]],learningrate)\n",
        "  return weights"
      ],
      "execution_count": null,
      "outputs": []
    },
    {
      "cell_type": "markdown",
      "metadata": {
        "id": "27HN_7pb2BBi"
      },
      "source": [
        "**1.3** Now write a bit of code to run through epochs until convergence."
      ]
    },
    {
      "cell_type": "code",
      "metadata": {
        "id": "jnkEdM3nBEWE",
        "colab": {
          "base_uri": "https://localhost:8080/",
          "height": 323
        },
        "outputId": "363385ef-b5ff-4dd3-f3fd-ecc1c94137d8"
      },
      "source": [
        "# write code to run through convergence\n",
        "# put final weights into \"finalweights\"\n",
        "learning_rate=0.01\n",
        "\n",
        "weights=weights_init\n",
        "old_weights=np.zeros(weights.shape)\n",
        "epoch=0\n",
        "while np.any(weights!=old_weights): #Since problem is linearly separable, error should go to zero thus weights won't change\n",
        "  epoch+=1\n",
        "  old_weights=weights\n",
        "\n",
        "  weights=run_epoch(weights,data,targets,learning_rate)\n",
        "\n",
        "  if epoch%10==9:\n",
        "    display(epoch+1, weights)\n",
        "\n",
        "  if epoch>1000: break # avoid infinite loop, just in case\n",
        "\n",
        "finalweights=weights\n"
      ],
      "execution_count": null,
      "outputs": [
        {
          "output_type": "display_data",
          "data": {
            "text/plain": [
              "10"
            ]
          },
          "metadata": {
            "tags": []
          }
        },
        {
          "output_type": "display_data",
          "data": {
            "text/plain": [
              "array([-0.82,  1.09,  0.32])"
            ]
          },
          "metadata": {
            "tags": []
          }
        },
        {
          "output_type": "display_data",
          "data": {
            "text/plain": [
              "20"
            ]
          },
          "metadata": {
            "tags": []
          }
        },
        {
          "output_type": "display_data",
          "data": {
            "text/plain": [
              "array([-0.71,  1.1 ,  0.21])"
            ]
          },
          "metadata": {
            "tags": []
          }
        },
        {
          "output_type": "display_data",
          "data": {
            "text/plain": [
              "30"
            ]
          },
          "metadata": {
            "tags": []
          }
        },
        {
          "output_type": "display_data",
          "data": {
            "text/plain": [
              "array([-0.61,  1.1 ,  0.11])"
            ]
          },
          "metadata": {
            "tags": []
          }
        },
        {
          "output_type": "display_data",
          "data": {
            "text/plain": [
              "40"
            ]
          },
          "metadata": {
            "tags": []
          }
        },
        {
          "output_type": "display_data",
          "data": {
            "text/plain": [
              "array([-0.51,  1.1 ,  0.01])"
            ]
          },
          "metadata": {
            "tags": []
          }
        },
        {
          "output_type": "display_data",
          "data": {
            "text/plain": [
              "50"
            ]
          },
          "metadata": {
            "tags": []
          }
        },
        {
          "output_type": "display_data",
          "data": {
            "text/plain": [
              "array([-4.10000000e-01,  1.10000000e+00, -3.08780779e-16])"
            ]
          },
          "metadata": {
            "tags": []
          }
        },
        {
          "output_type": "display_data",
          "data": {
            "text/plain": [
              "60"
            ]
          },
          "metadata": {
            "tags": []
          }
        },
        {
          "output_type": "display_data",
          "data": {
            "text/plain": [
              "array([-3.10000000e-01,  1.10000000e+00, -3.08780779e-16])"
            ]
          },
          "metadata": {
            "tags": []
          }
        },
        {
          "output_type": "display_data",
          "data": {
            "text/plain": [
              "70"
            ]
          },
          "metadata": {
            "tags": []
          }
        },
        {
          "output_type": "display_data",
          "data": {
            "text/plain": [
              "array([-2.10000000e-01,  1.10000000e+00, -3.08780779e-16])"
            ]
          },
          "metadata": {
            "tags": []
          }
        },
        {
          "output_type": "display_data",
          "data": {
            "text/plain": [
              "80"
            ]
          },
          "metadata": {
            "tags": []
          }
        },
        {
          "output_type": "display_data",
          "data": {
            "text/plain": [
              "array([-1.10000000e-01,  1.10000000e+00, -3.08780779e-16])"
            ]
          },
          "metadata": {
            "tags": []
          }
        },
        {
          "output_type": "display_data",
          "data": {
            "text/plain": [
              "90"
            ]
          },
          "metadata": {
            "tags": []
          }
        },
        {
          "output_type": "display_data",
          "data": {
            "text/plain": [
              "array([-1.00000000e-02,  1.10000000e+00, -3.08780779e-16])"
            ]
          },
          "metadata": {
            "tags": []
          }
        }
      ]
    },
    {
      "cell_type": "markdown",
      "metadata": {
        "id": "Wfya2cJn2I4u"
      },
      "source": [
        "**1.4** Plot the final weights to show the boundary that you have learned."
      ]
    },
    {
      "cell_type": "code",
      "metadata": {
        "id": "8fvq7bmI2HQj",
        "colab": {
          "base_uri": "https://localhost:8080/",
          "height": 265
        },
        "outputId": "66de3bac-a997-48fd-f26f-915bbfe56d5f"
      },
      "source": [
        "plotgraph(data,targets,finalweights)"
      ],
      "execution_count": null,
      "outputs": [
        {
          "output_type": "display_data",
          "data": {
            "image/png": "[encoded data removed]",
            "text/plain": [
              "<Figure size 432x288 with 1 Axes>"
            ]
          },
          "metadata": {
            "tags": [],
            "needs_background": "light"
          }
        }
      ]
    },
    {
      "cell_type": "markdown",
      "metadata": {
        "id": "mUrKN_-H2b4w"
      },
      "source": [
        "**1.5** Optional extensions:\n",
        "\n",
        "**1.5.1** Rerun your code for the \"or\" function.\n",
        "\n",
        "**1.5.2** Modify your code to allow for the majority class function for three inputs (i.e. 1 if 2 or more inputs are on).\n",
        "\n",
        "**1.5.3** Investigate what happens if you run the \"xor\" function through the training.\n"
      ]
    },
    {
      "cell_type": "markdown",
      "metadata": {
        "id": "2d0V3Z7q22Rm"
      },
      "source": [
        "**Part 2: Vowel Classification**\n",
        "\n",
        "In this section, you will look at some actual (noisy) vowel formant data.\n",
        "\n",
        "Formants, as we use them here, are the local maxima, or broad peaks, in a sound's spectrogram. They are related to the harmonic structure of sounds and so we expect them to be highly related to speech. So we will attempt to use formant pairs (the two highest/most powerful, peaks) to predict vowels.\n",
        "\n",
        "Go to the International Phonetic Alphabet (IPA) vowel chart at https://en.wikipedia.org/wiki/IPA_vowel_chart_with_audio and play the sounds.  The chart is written in IPA, but here are the two letter (ARPABET) symbols for some of the vowels of English: iy, ih, ey, eh, ah, ao, ow, uw, ax.\n",
        "\n",
        "Vowels are produced by shaping the vocal tract so some of their features are:\n",
        "\n",
        "|Vowel|Tongue Height|Tongue Depth|Lip Shape|\n",
        "|---|---|---|---|\n",
        "|iy|close|front|unrounded|\n",
        "|ih|near-close|front|unrounded|\n",
        "|ey|close-mid|front|unrounded|\n",
        "|eh|open-mid|front|unrounded|\n",
        "|ah|open|back|rounded|\n",
        "|ao|open-mid|back|rounded|\n",
        "|ow|close-mid|back|rounded|\n",
        "|uw|close|back|rounded|\n",
        "|ax|mid|central|unrounded|\n",
        "\n",
        "I've prepared a csv datafile with the following features:\n",
        "* Vowels\n",
        " * 'vowel': Two-letter vowel identifier (e.g., 'iy', 'ih', etc.)\n",
        "* Formants\n",
        " * 'f1': Strongest formant (in Hz)\n",
        " * 'f2': Second strongest formant (in Hz)\n",
        "* Tongue Height\n",
        " * 'h1': close\n",
        " * 'h2': near-close or lower\n",
        " * 'h3': close-mid or lower\n",
        " * 'h4': mid or lower\n",
        " * 'h5': open-mid or lower\n",
        " * All are boolean (0,1)\n",
        " * **Note:** The above are inclusive of more closed states. For example, 'ey' being 'close-mid' would have h3,h4,h5 true and h1,h2 false. This means you would need to combine (logical and,negation) multiple of the above features to determine a specific Tongue Height condition.\n",
        "* Tongue Depth\n",
        " * 'b1': back\n",
        " * 'b2': central or back\n",
        " * Also boolean\n",
        " * **Note:** You can see 'front' is missing and 'central' in combined with 'back'. Similar to above, you would need to combine the above features together to get specific Tongue Depth values. (For example, for 'central' you would need to have b2 be true but b1 be false.)\n",
        "* Lip Shape\n",
        " * r: rounded\n",
        " * Again boolean, negate for 'unrounded'\n",
        "\n",
        "---\n",
        "\n",
        "First, let's read in the data.\n"
      ]
    },
    {
      "cell_type": "code",
      "metadata": {
        "id": "9YZyTz4sBrx6",
        "colab": {
          "base_uri": "https://localhost:8080/",
          "height": 378
        },
        "outputId": "9a436c1c-4a45-4902-cf61-33623af23a2e"
      },
      "source": [
        "# first, read in the data and build a scatterplot showing the vowel formants\n",
        "import pandas as pd\n",
        "url='https://raw.githubusercontent.com/efosler/cse5522data/master/vowelfmts.csv'\n",
        "df=pd.read_csv(url)\n",
        "\n",
        "# This function will plot the vowels as a scatterplot with different colors\n",
        "# using the traditional F2 vs F1 inverted plot.  This puts high (close) vowels\n",
        "# at the top of the plot and low vowels (open) at the bottom.  Front vowels\n",
        "# are to the left; back vowels to the right.  Optionally can plot a boundary.\n",
        "\n",
        "def plotvowels(df,weights=None):\n",
        "  # this next bit converts the label into a colormap value between 0 and 1\n",
        "  vowels=df['vowel'].unique()\n",
        "  vmap={}\n",
        "  for i in range(vowels.shape[0]):\n",
        "    vmap[vowels[i]]=float(i)/float(vowels.shape[0]-1)\n",
        "  df['color']=df['vowel'].map(vmap)\n",
        "  # plot the scatterplot\n",
        "  plt.figure(num=1,figsize=(6,6))\n",
        "  plt.scatter(df['f2'],df['f1'],s=1,c=df['color'],cmap='gist_rainbow')\n",
        "  plt.gca().set_ylim([100,1000])\n",
        "  plt.gca().set_xlim([750,2500])\n",
        "  plt.gca().invert_xaxis()\n",
        "  plt.gca().invert_yaxis()\n",
        "  if weights is not None:\n",
        "    dmin=df['f2'].min()\n",
        "    dmax=df['f2'].max()\n",
        "    plt.plot(np.array([dmin,dmax]),\n",
        "             np.array([-(dmin*weights[0]+weights[2])/(weights[1]),\n",
        "                       -(dmax*weights[0]+weights[2])/(weights[1])]),\n",
        "             'b--'\n",
        "             )\n",
        "\n",
        "# Plot the vowel data.  Compare against the IPA chart online.\n",
        "plotvowels(df)"
      ],
      "execution_count": null,
      "outputs": [
        {
          "output_type": "display_data",
          "data": {
            "image/png": "[encoded data removed]",
            "text/plain": [
              "<Figure size 432x432 with 1 Axes>"
            ]
          },
          "metadata": {
            "tags": [],
            "needs_background": "light"
          }
        }
      ]
    },
    {
      "cell_type": "markdown",
      "metadata": {
        "id": "OKy9yHIA4fgW"
      },
      "source": [
        "You will notice that the vowel classes aren't linearly separable.\n",
        "\n",
        "In Lab 4, you will try to separate vowels by different types of vocal tract features (back / front / close / open), and use perceptrons to predict those features (h1-h5, b1, b2, r)."
      ]
    },
    {
      "cell_type": "markdown",
      "metadata": {
        "id": "5ropho7s6URu"
      },
      "source": [
        "**Part 3: PyTorch Neural Networks**\n",
        "\n",
        "This is a quick runthrough of PyTorch, and how to build a neural network.  The code below is a modified version of https://courses.cs.washington.edu/courses/cse446/18wi/sections/section8/XOR-Pytorch.html with some additional annotations to help you along.\n",
        "\n",
        "This part is mostly read-and-run, but at the end you can test your understanding by modifying the code.\n",
        "\n",
        "**3.1** First some library preliminaries."
      ]
    },
    {
      "cell_type": "code",
      "metadata": {
        "id": "GyIQ-0oOiU7F"
      },
      "source": [
        "import torch\n",
        "from torch.autograd import Variable\n",
        "import torch.nn as nn\n",
        "import torch.nn.functional as F\n",
        "import torch.optim as optim\n",
        "import numpy as np\n",
        "import matplotlib.pyplot as plt\n",
        "%matplotlib inline\n",
        "torch.manual_seed(2)\n",
        "\n",
        "#Use GPU if available\n",
        "dev = torch.device(\"cuda\") if torch.cuda.is_available() else torch.device(\"cpu\")\n",
        "#Make note of everywhere you see \".to(dev)\". We are trying to transfer the PyTorch object (tensor,model,etc)\n",
        "#  to the gpu (if available) so computation can be done there.\n",
        "#NOTE: For this to have any effect, you will need to go to \"Runtime\" -> \"Change runtime type\" -> \"Hardware accelerator\" -> \"GPU\"\n",
        "#        Don't bother for the hands on, but highly recommended for the lab"
      ],
      "execution_count": null,
      "outputs": []
    },
    {
      "cell_type": "markdown",
      "metadata": {
        "id": "Zo7_euBB64as"
      },
      "source": [
        "**3.2** Now set up the data into *tensors* (i.e. multidimensional arrays).  X is the data array, Y is the target."
      ]
    },
    {
      "cell_type": "code",
      "metadata": {
        "id": "OOrD5aDP62CX"
      },
      "source": [
        "X = torch.Tensor([[0,0],[0,1], [1,0], [1,1]]).to(dev)\n",
        "Y = torch.Tensor([0,1,1,0]).view(-1,1).to(dev)"
      ],
      "execution_count": null,
      "outputs": []
    },
    {
      "cell_type": "markdown",
      "metadata": {
        "id": "MpflPWlf7Nsj"
      },
      "source": [
        "**3.3** Let's define a multi-layer perceptron with 2 layers.  Each layer will create a linear combination of the inputs, and feed to a sigmoid output.\n",
        "\n",
        "Note that the initializer (with the calls to nn.Linear) will create a set of parameters that are associated with the model."
      ]
    },
    {
      "cell_type": "code",
      "metadata": {
        "id": "fn7n4-VH7OQL"
      },
      "source": [
        "class MLP2(nn.Module):\n",
        "    def __init__(self, input_dim = 2, hid_dim=2, output_dim=1):\n",
        "        # initialze the superclass\n",
        "        super(MLP2, self).__init__()\n",
        "        # this will create a linear layer with input_dim x hid_dim parameters\n",
        "        # in addition to a bias unit with hid_dim parameters\n",
        "        self.lin1 = nn.Linear(input_dim, hid_dim)\n",
        "        # same thing here except hid_dim x output_dim\n",
        "        self.lin2 = nn.Linear(hid_dim, output_dim)\n",
        "\n",
        "    # this is where the meat of the action is\n",
        "    def forward(self, x):\n",
        "        x = self.lin1(x)  # linear combination of inputs\n",
        "        x = torch.sigmoid(x) # then through sigmoid - output of first layer\n",
        "        x = self.lin2(x) # linear combination of hidden units\n",
        "        x = torch.sigmoid(x) # then through sigmoid - net output\n",
        "        return x"
      ],
      "execution_count": null,
      "outputs": []
    },
    {
      "cell_type": "markdown",
      "metadata": {
        "id": "Usrqoiw48CcX"
      },
      "source": [
        "**3.4** We also define a function to initialize weights of our model."
      ]
    },
    {
      "cell_type": "code",
      "metadata": {
        "id": "bJP5EfDS7-Hw"
      },
      "source": [
        "def weights_init(model):\n",
        "    for m in model.modules():\n",
        "        if isinstance(m, nn.Linear):\n",
        "            # initialize the weight tensor, here we use a normal distribution\n",
        "            m.weight.data.normal_(0, 1)\n"
      ],
      "execution_count": null,
      "outputs": []
    },
    {
      "cell_type": "markdown",
      "metadata": {
        "id": "IhhgEm298OSk"
      },
      "source": [
        "**3.5** Now create a model and initialize it.  Also define a loss function and the optimizer."
      ]
    },
    {
      "cell_type": "code",
      "metadata": {
        "id": "QD8pE8kb8MuO"
      },
      "source": [
        "model = MLP2().to(dev)\n",
        "weights_init(model)\n",
        "loss_func = nn.MSELoss().to(dev)\n",
        "optimizer = optim.SGD(model.parameters(), lr=0.02, momentum=0.9)\n"
      ],
      "execution_count": null,
      "outputs": []
    },
    {
      "cell_type": "markdown",
      "metadata": {
        "id": "GPT4oaWy9LD-"
      },
      "source": [
        "**3.6** Now we run the training."
      ]
    },
    {
      "cell_type": "code",
      "metadata": {
        "id": "jj3tKoee8nMH",
        "colab": {
          "base_uri": "https://localhost:8080/"
        },
        "outputId": "75ddf7d3-816f-42da-b642-8cc56f36a28e"
      },
      "source": [
        "#Stochastic Gradient Descent\n",
        "#-------------------------------\n",
        "#By randomly varying the order we train data points, we introduce some beneficial\n",
        "#noise which will help avoid getting stuck in shallow local minima (among other things)\n",
        "epochs = 3001\n",
        "N = X.size(0)\n",
        "for i in range(epochs):\n",
        "  order=np.random.permutation(N) #Generate a random ordering (this ensures every datapoint is used for training, just in random order)\n",
        "  for j in range(N):\n",
        "    data_point = order[j]\n",
        "    x_var = Variable(X[data_point], requires_grad=False)\n",
        "    y_var = Variable(Y[data_point], requires_grad=False)\n",
        "    optimizer.zero_grad() #Zero the gradient accumulators (individual gradient values can come from many sources, remember our discussion on re-using weights, we sum them all)\n",
        "    y_hat = model(x_var) #Calculate the output of the model\n",
        "    loss = loss_func.forward(y_hat, y_var) #Calculate loss between model output and target values\n",
        "    loss.backward() #Back propogation - calcluate gradients by propogating loss backwards through the network\n",
        "    optimizer.step() #Use the gradients to update weights, take a \"step\" in the loss-minimizing direction\n",
        "\n",
        "  if i % 500 == 0:\n",
        "    print(\"Epoch: {0}, Loss: {1}, \".format(i, loss.data.numpy()))\n"
      ],
      "execution_count": null,
      "outputs": [
        {
          "output_type": "stream",
          "text": [
            "Epoch: 0, Loss: 0.0002561479341238737, \n",
            "Epoch: 500, Loss: 0.25510621070861816, \n",
            "Epoch: 1000, Loss: 0.2541165351867676, \n",
            "Epoch: 1500, Loss: 0.24871206283569336, \n",
            "Epoch: 2000, Loss: 0.00020956152002327144, \n",
            "Epoch: 2500, Loss: 0.0002141648146789521, \n",
            "Epoch: 3000, Loss: 0.2546665668487549, \n"
          ],
          "name": "stdout"
        }
      ]
    },
    {
      "cell_type": "markdown",
      "metadata": {
        "id": "sqFt7zng-cIO"
      },
      "source": [
        "**3.7** This is a neat little bit of code that will print out the first layer's decision boundaries."
      ]
    },
    {
      "cell_type": "code",
      "metadata": {
        "id": "DX6bK_Z--TV9",
        "colab": {
          "base_uri": "https://localhost:8080/",
          "height": 265
        },
        "outputId": "436ff588-623f-457b-d7c4-551a0123f0f1"
      },
      "source": [
        "model_params = list(model.parameters())\n",
        "model_weights = model_params[0].data.numpy()\n",
        "model_bias = model_params[1].data.numpy()\n",
        "\n",
        "plt.scatter(X.numpy()[[0,-1], 0], X.numpy()[[0, -1], 1], s=50)\n",
        "plt.scatter(X.numpy()[[1,2], 0], X.numpy()[[1, 2], 1], c='red', s=50)\n",
        "\n",
        "x_1 = np.arange(-0.1, 1.1, 0.1)\n",
        "y_1 = ((x_1 * model_weights[0,0]) + model_bias[0]) / (-model_weights[0,1])\n",
        "plt.plot(x_1, y_1)\n",
        "\n",
        "x_2 = np.arange(-0.1, 1.1, 0.1)\n",
        "y_2 = ((x_2 * model_weights[1,0]) + model_bias[1]) / (-model_weights[1,1])\n",
        "plt.plot(x_2, y_2)\n",
        "plt.legend([\"neuron_1\", \"neuron_2\"], loc=8)\n",
        "plt.show()"
      ],
      "execution_count": null,
      "outputs": [
        {
          "output_type": "display_data",
          "data": {
            "image/png": "[encoded data removed]",
            "text/plain": [
              "<Figure size 432x288 with 1 Axes>"
            ]
          },
          "metadata": {
            "tags": [],
            "needs_background": "light"
          }
        }
      ]
    },
    {
      "cell_type": "markdown",
      "metadata": {
        "id": "8WHZknJg-09E"
      },
      "source": [
        "**3.8** Now take a look at the parameters that were learned.  Can you trace how the xor decision works for each of the datapoints?  \n",
        "\n",
        "The first tensor is the input-hidden weights, second is the bias-hidden weights, third is hidden-output, and last is bias-output."
      ]
    },
    {
      "cell_type": "code",
      "metadata": {
        "id": "MtJ_Y3kw-wzE",
        "colab": {
          "base_uri": "https://localhost:8080/"
        },
        "outputId": "9515cee3-b47c-4ece-bacc-4afdabc23fd2"
      },
      "source": [
        "model_params"
      ],
      "execution_count": null,
      "outputs": [
        {
          "output_type": "execute_result",
          "data": {
            "text/plain": [
              "[Parameter containing:\n",
              " tensor([[-3.7523, -6.8069],\n",
              "         [-3.7723,  7.1633]], requires_grad=True), Parameter containing:\n",
              " tensor([0.6694, 2.5623], requires_grad=True), Parameter containing:\n",
              " tensor([[-5.1658, -4.1762]], requires_grad=True), Parameter containing:\n",
              " tensor([4.1477], requires_grad=True)]"
            ]
          },
          "metadata": {
            "tags": []
          },
          "execution_count": 15
        }
      ]
    },
    {
      "cell_type": "markdown",
      "metadata": {
        "id": "o0ZO61uX_XRa"
      },
      "source": [
        "**3.9** Can you figure out what in the above code would need to be modified to add a third layer?  Or change the activation function?"
      ]
    },
    {
      "cell_type": "markdown",
      "metadata": {
        "id": "55fWdz81EjoQ"
      },
      "source": [
        "**3.10** In 3.6 above, we used stochastic gradient descent in online mode.\n",
        "\n",
        "As we discussed in class, online mode can be very inefficient, especially if taking advantage of GPUs to accelerate training. For the above example problem (XOR) this is immaterial since we only have 4 data points, but consider a more realistic problem (e.g., the upcoming lab).\n",
        "\n",
        "Think about how you would modify the code in 3.6 to do mini-batch training instead. (Remember, this was where every epoch we divided the training set into randomized pieces, mini-batches, and present each one in turn for training.)\n",
        "\n",
        "*Hint*: You might first try converting the 3.6 code to simple batch training, i.e. train on the entire data set at once. It should be easier to see from that how to present randomized mini-batches for training."
      ]
    },
    {
      "cell_type": "code",
      "metadata": {
        "id": "CNF9yNhFT_Ac",
        "colab": {
          "base_uri": "https://localhost:8080/"
        },
        "outputId": "ed14d1c9-77bf-4c03-be05-452b72875d7f"
      },
      "source": [
        "# Batch Training\n",
        "# -------------------------------\n",
        "# Unfortunately, because of the way libraries like PyTorch work, it can be very inefficient\n",
        "# to only give them one data point at a time.\n",
        "# In the past, batch training, where we give the entire dataset to train on, was used\n",
        "# to avoid such inefficiencies. (But, of course, we lose the effect of beneficial noise.)\n",
        "epochs = 3001\n",
        "N = X.size(0)\n",
        "for i in range(epochs):\n",
        "  x_var = Variable(X, requires_grad=False)\n",
        "  y_var = Variable(Y, requires_grad=False)\n",
        "\n",
        "  optimizer.zero_grad()\n",
        "  y_hat = model(x_var)\n",
        "  loss = loss_func.forward(y_hat, y_var)\n",
        "  loss.backward()\n",
        "  optimizer.step()\n",
        "\n",
        "  if i % 500 == 0:\n",
        "    print(\"Epoch: {0}, Loss: {1}, \".format(i, loss.data.cpu().numpy()))\n"
      ],
      "execution_count": null,
      "outputs": [
        {
          "output_type": "stream",
          "text": [
            "Epoch: 0, Loss: 0.12561602890491486, \n",
            "Epoch: 500, Loss: 0.12560640275478363, \n",
            "Epoch: 1000, Loss: 0.12559713423252106, \n",
            "Epoch: 1500, Loss: 0.12558798491954803, \n",
            "Epoch: 2000, Loss: 0.12557923793792725, \n",
            "Epoch: 2500, Loss: 0.12557066977024078, \n",
            "Epoch: 3000, Loss: 0.12556245923042297, \n"
          ],
          "name": "stdout"
        }
      ]
    },
    {
      "cell_type": "code",
      "metadata": {
        "id": "twKMtFVnUBPD",
        "colab": {
          "base_uri": "https://localhost:8080/"
        },
        "outputId": "f30de996-2a2b-4b26-aefc-fead81167465"
      },
      "source": [
        "#SGD w/ mini-batches\n",
        "#-------------------------------\n",
        "#But as you can see, if you give batch training a try, it takes longer to converge and\n",
        "#isn't as reliable. Turns out noise realy is beneficial.\n",
        "#The modern approach is to split the difference between the two. Use more than one data\n",
        "#point at a time for training, but only a small random selection from the dataset: a mini-batch\n",
        "epochs = 3001\n",
        "N = X.size(0)\n",
        "for i in range(epochs):\n",
        "  mini_batch_size=2 #More common values for this are ~50, but we only have 4 data points in this data set\n",
        "  order=np.random.permutation(N)\n",
        "  for j in range(0,N,mini_batch_size):\n",
        "    data_points = order[j:min(j+mini_batch_size,N)]\n",
        "    x_var = Variable(X[data_points], requires_grad=False)\n",
        "    y_var = Variable(Y[data_points], requires_grad=False)\n",
        "\n",
        "    optimizer.zero_grad()\n",
        "    y_hat = model(x_var)\n",
        "    loss = loss_func.forward(y_hat, y_var)\n",
        "    loss.backward()\n",
        "    optimizer.step()\n",
        "\n",
        "  if i % 500 == 0:\n",
        "    print(\"Epoch: {0}, Loss: {1}, \".format(i, loss.data.cpu().numpy()))"
      ],
      "execution_count": null,
      "outputs": [
        {
          "output_type": "stream",
          "text": [
            "Epoch: 0, Loss: 0.25040653347969055, \n",
            "Epoch: 500, Loss: 0.12515413761138916, \n",
            "Epoch: 1000, Loss: 0.12615065276622772, \n",
            "Epoch: 1500, Loss: 0.12590016424655914, \n",
            "Epoch: 2000, Loss: 0.2503829300403595, \n",
            "Epoch: 2500, Loss: 0.25037601590156555, \n",
            "Epoch: 3000, Loss: 0.12602394819259644, \n"
          ],
          "name": "stdout"
        }
      ]
    }
  ]
}