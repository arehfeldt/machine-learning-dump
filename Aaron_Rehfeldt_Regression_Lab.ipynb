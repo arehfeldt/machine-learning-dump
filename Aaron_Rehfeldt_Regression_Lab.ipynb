{
  "nbformat": 4,
  "nbformat_minor": 0,
  "metadata": {
    "colab": {
      "provenance": [],
      "include_colab_link": true
    },
    "kernelspec": {
      "name": "python3",
      "display_name": "Python 3"
    }
  },
  "cells": [
    {
      "cell_type": "markdown",
      "metadata": {
        "id": "view-in-github",
        "colab_type": "text"
      },
      "source": [
        "<a href=\"https://colab.research.google.com/github/arehfeldt/machine-learning-dump/blob/main/Aaron_Rehfeldt_Regression_Lab.ipynb\" target=\"_parent\"><img src=\"https://colab.research.google.com/assets/colab-badge.svg\" alt=\"Open In Colab\"/></a>"
      ]
    },
    {
      "cell_type": "markdown",
      "metadata": {
        "id": "dTPwb8ny-hOU"
      },
      "source": [
        "**CSE 5522 Lab #1: Regression**\n",
        "\n",
        "The goals of this lab are to familarize you with:\n",
        "\n",
        "*   Gradient descent\n",
        "*   Multivariate regression\n",
        "*   Logistic regression\n",
        "*   Data exploration\n",
        "\n",
        "**Initial notes**\n",
        "\n",
        "* (If you are using Google Colab) Make a copy of this page in your google drive so that you can edit it.\n",
        "\n",
        "* While not completely necessary for this assignment, you may want to familiarize yourself with the following packages: [numpy](https://numpy.org), [scikit-learn](https://scikit-learn.org), [pandas](https://pandas.pydata.org), [matplotlib](https://matplotlib.org).\n",
        " * Especially numpy, many of the calculations in this lab (and later) can be done in one line using numpy. Whereas raw python may require 5-10x that.\n",
        "\n",
        "* Feel free to (please do!) change the structure of the document below. Especially, add code sections to break your code into logical pieces and add text sections to explain your code or results\n",
        "\n",
        "---\n",
        "---\n"
      ]
    },
    {
      "cell_type": "markdown",
      "metadata": {
        "id": "EYMPnwak4xhX"
      },
      "source": [
        "\n",
        "**Part 1: Multivariate regression (20 pts)**\n",
        "\n",
        "In this part of the lab, you'll explore multivariate regression.  We'll use the *scikit-learn* linear regression tool (although you're welcome to extend your code from the hands-on).  The primary reason for this is that the sklearn routines will handle some of the normalization issues for you.\n",
        "\n",
        "Note: Some parts of this tutorial were based on [Argawal, Linear Regression on Boston Housing Dataset](https://towardsdatascience.com/linear-regression-on-boston-housing-dataset-f409b7e4a155).\n",
        "\n",
        "**1.0:** We'll be looking at the Boston Housing dataset which is built in to sklearn, but has more variables. Load the dataset in:"
      ]
    },
    {
      "cell_type": "code",
      "metadata": {
        "id": "fTzAMOTl4v_f"
      },
      "source": [
        "import matplotlib.pyplot as plt\n",
        "import pandas as pd\n",
        "import numpy as np\n",
        "import time\n",
        "from sklearn.datasets import load_boston\n",
        "boston_dataset=load_boston()"
      ],
      "execution_count": null,
      "outputs": []
    },
    {
      "cell_type": "markdown",
      "metadata": {
        "id": "csgSBR5w6FKq"
      },
      "source": [
        "**1.1** You can see a description of the dataset by printing the dataset's DESCR attribute (set by the sklearn.dataset package)."
      ]
    },
    {
      "cell_type": "code",
      "metadata": {
        "id": "Ez-qWyVI6CAL",
        "colab": {
          "base_uri": "https://localhost:8080/"
        },
        "outputId": "5313b36f-3a42-4c23-853f-ed573a778746"
      },
      "source": [
        "print(boston_dataset.DESCR)"
      ],
      "execution_count": null,
      "outputs": [
        {
          "output_type": "stream",
          "text": [
            ".. _boston_dataset:\n",
            "\n",
            "Boston house prices dataset\n",
            "---------------------------\n",
            "\n",
            "**Data Set Characteristics:**  \n",
            "\n",
            "    :Number of Instances: 506 \n",
            "\n",
            "    :Number of Attributes: 13 numeric/categorical predictive. Median Value (attribute 14) is usually the target.\n",
            "\n",
            "    :Attribute Information (in order):\n",
            "        - CRIM     per capita crime rate by town\n",
            "        - ZN       proportion of residential land zoned for lots over 25,000 sq.ft.\n",
            "        - INDUS    proportion of non-retail business acres per town\n",
            "        - CHAS     Charles River dummy variable (= 1 if tract bounds river; 0 otherwise)\n",
            "        - NOX      nitric oxides concentration (parts per 10 million)\n",
            "        - RM       average number of rooms per dwelling\n",
            "        - AGE      proportion of owner-occupied units built prior to 1940\n",
            "        - DIS      weighted distances to five Boston employment centres\n",
            "        - RAD      index of accessibility to radial highways\n",
            "        - TAX      full-value property-tax rate per $10,000\n",
            "        - PTRATIO  pupil-teacher ratio by town\n",
            "        - B        1000(Bk - 0.63)^2 where Bk is the proportion of blacks by town\n",
            "        - LSTAT    % lower status of the population\n",
            "        - MEDV     Median value of owner-occupied homes in $1000's\n",
            "\n",
            "    :Missing Attribute Values: None\n",
            "\n",
            "    :Creator: Harrison, D. and Rubinfeld, D.L.\n",
            "\n",
            "This is a copy of UCI ML housing dataset.\n",
            "https://archive.ics.uci.edu/ml/machine-learning-databases/housing/\n",
            "\n",
            "\n",
            "This dataset was taken from the StatLib library which is maintained at Carnegie Mellon University.\n",
            "\n",
            "The Boston house-price data of Harrison, D. and Rubinfeld, D.L. 'Hedonic\n",
            "prices and the demand for clean air', J. Environ. Economics & Management,\n",
            "vol.5, 81-102, 1978.   Used in Belsley, Kuh & Welsch, 'Regression diagnostics\n",
            "...', Wiley, 1980.   N.B. Various transformations are used in the table on\n",
            "pages 244-261 of the latter.\n",
            "\n",
            "The Boston house-price data has been used in many machine learning papers that address regression\n",
            "problems.   \n",
            "     \n",
            ".. topic:: References\n",
            "\n",
            "   - Belsley, Kuh & Welsch, 'Regression diagnostics: Identifying Influential Data and Sources of Collinearity', Wiley, 1980. 244-261.\n",
            "   - Quinlan,R. (1993). Combining Instance-Based and Model-Based Learning. In Proceedings on the Tenth International Conference of Machine Learning, 236-243, University of Massachusetts, Amherst. Morgan Kaufmann.\n",
            "\n"
          ],
          "name": "stdout"
        }
      ]
    },
    {
      "cell_type": "markdown",
      "metadata": {
        "id": "w1czgqWq7N5d"
      },
      "source": [
        "**1.2:** We can convert this data into a pandas dataframe and then look at the first few rows in tabular form."
      ]
    },
    {
      "cell_type": "code",
      "metadata": {
        "id": "phA72blh6d_N",
        "colab": {
          "base_uri": "https://localhost:8080/",
          "height": 204
        },
        "outputId": "d720e20b-eed5-4728-fad5-bb1348e760ed"
      },
      "source": [
        "boston = pd.DataFrame(boston_dataset.data, columns=boston_dataset.feature_names)\n",
        "boston['MEDV']=boston_dataset.target\n",
        "boston.head()"
      ],
      "execution_count": null,
      "outputs": [
        {
          "output_type": "execute_result",
          "data": {
            "text/html": [
              "<div>\n",
              "<style scoped>\n",
              "    .dataframe tbody tr th:only-of-type {\n",
              "        vertical-align: middle;\n",
              "    }\n",
              "\n",
              "    .dataframe tbody tr th {\n",
              "        vertical-align: top;\n",
              "    }\n",
              "\n",
              "    .dataframe thead th {\n",
              "        text-align: right;\n",
              "    }\n",
              "</style>\n",
              "<table border=\"1\" class=\"dataframe\">\n",
              "  <thead>\n",
              "    <tr style=\"text-align: right;\">\n",
              "      <th></th>\n",
              "      <th>CRIM</th>\n",
              "      <th>ZN</th>\n",
              "      <th>INDUS</th>\n",
              "      <th>CHAS</th>\n",
              "      <th>NOX</th>\n",
              "      <th>RM</th>\n",
              "      <th>AGE</th>\n",
              "      <th>DIS</th>\n",
              "      <th>RAD</th>\n",
              "      <th>TAX</th>\n",
              "      <th>PTRATIO</th>\n",
              "      <th>B</th>\n",
              "      <th>LSTAT</th>\n",
              "      <th>MEDV</th>\n",
              "    </tr>\n",
              "  </thead>\n",
              "  <tbody>\n",
              "    <tr>\n",
              "      <th>0</th>\n",
              "      <td>0.00632</td>\n",
              "      <td>18.0</td>\n",
              "      <td>2.31</td>\n",
              "      <td>0.0</td>\n",
              "      <td>0.538</td>\n",
              "      <td>6.575</td>\n",
              "      <td>65.2</td>\n",
              "      <td>4.0900</td>\n",
              "      <td>1.0</td>\n",
              "      <td>296.0</td>\n",
              "      <td>15.3</td>\n",
              "      <td>396.90</td>\n",
              "      <td>4.98</td>\n",
              "      <td>24.0</td>\n",
              "    </tr>\n",
              "    <tr>\n",
              "      <th>1</th>\n",
              "      <td>0.02731</td>\n",
              "      <td>0.0</td>\n",
              "      <td>7.07</td>\n",
              "      <td>0.0</td>\n",
              "      <td>0.469</td>\n",
              "      <td>6.421</td>\n",
              "      <td>78.9</td>\n",
              "      <td>4.9671</td>\n",
              "      <td>2.0</td>\n",
              "      <td>242.0</td>\n",
              "      <td>17.8</td>\n",
              "      <td>396.90</td>\n",
              "      <td>9.14</td>\n",
              "      <td>21.6</td>\n",
              "    </tr>\n",
              "    <tr>\n",
              "      <th>2</th>\n",
              "      <td>0.02729</td>\n",
              "      <td>0.0</td>\n",
              "      <td>7.07</td>\n",
              "      <td>0.0</td>\n",
              "      <td>0.469</td>\n",
              "      <td>7.185</td>\n",
              "      <td>61.1</td>\n",
              "      <td>4.9671</td>\n",
              "      <td>2.0</td>\n",
              "      <td>242.0</td>\n",
              "      <td>17.8</td>\n",
              "      <td>392.83</td>\n",
              "      <td>4.03</td>\n",
              "      <td>34.7</td>\n",
              "    </tr>\n",
              "    <tr>\n",
              "      <th>3</th>\n",
              "      <td>0.03237</td>\n",
              "      <td>0.0</td>\n",
              "      <td>2.18</td>\n",
              "      <td>0.0</td>\n",
              "      <td>0.458</td>\n",
              "      <td>6.998</td>\n",
              "      <td>45.8</td>\n",
              "      <td>6.0622</td>\n",
              "      <td>3.0</td>\n",
              "      <td>222.0</td>\n",
              "      <td>18.7</td>\n",
              "      <td>394.63</td>\n",
              "      <td>2.94</td>\n",
              "      <td>33.4</td>\n",
              "    </tr>\n",
              "    <tr>\n",
              "      <th>4</th>\n",
              "      <td>0.06905</td>\n",
              "      <td>0.0</td>\n",
              "      <td>2.18</td>\n",
              "      <td>0.0</td>\n",
              "      <td>0.458</td>\n",
              "      <td>7.147</td>\n",
              "      <td>54.2</td>\n",
              "      <td>6.0622</td>\n",
              "      <td>3.0</td>\n",
              "      <td>222.0</td>\n",
              "      <td>18.7</td>\n",
              "      <td>396.90</td>\n",
              "      <td>5.33</td>\n",
              "      <td>36.2</td>\n",
              "    </tr>\n",
              "  </tbody>\n",
              "</table>\n",
              "</div>"
            ],
            "text/plain": [
              "      CRIM    ZN  INDUS  CHAS    NOX  ...    TAX  PTRATIO       B  LSTAT  MEDV\n",
              "0  0.00632  18.0   2.31   0.0  0.538  ...  296.0     15.3  396.90   4.98  24.0\n",
              "1  0.02731   0.0   7.07   0.0  0.469  ...  242.0     17.8  396.90   9.14  21.6\n",
              "2  0.02729   0.0   7.07   0.0  0.469  ...  242.0     17.8  392.83   4.03  34.7\n",
              "3  0.03237   0.0   2.18   0.0  0.458  ...  222.0     18.7  394.63   2.94  33.4\n",
              "4  0.06905   0.0   2.18   0.0  0.458  ...  222.0     18.7  396.90   5.33  36.2\n",
              "\n",
              "[5 rows x 14 columns]"
            ]
          },
          "metadata": {
            "tags": []
          },
          "execution_count": 3
        }
      ]
    },
    {
      "cell_type": "markdown",
      "metadata": {
        "id": "kIynx6z4AA3I"
      },
      "source": [
        "**1.3:** At this point, we want to figure out what variables are good predictors of the median value of a house in Boston.  We can find the relationship between single variables by looking at the correlation between variables.  \n",
        "\n",
        "---\n",
        "\n",
        "*Side note: the correlation between two vectors of variables x and y is*\n",
        "```\n",
        "1/(n-1) sum x*y\n",
        "```\n",
        "*assuming that x and y have zero mean and a standard gaussian distribution (which you can achieve by subtracting the mean and dividing by the standard deviation).  If x and y always share the same sign, then this value will be positive; if x and y are always opposite sign then the correlation is negative.*\n",
        "\n",
        "---\n",
        "\n",
        "The sklearn.datasets class has a built in correlation function, which we can use to compute the correlation between each pair of variables.  We can also use the seaborn package to plot a nice heatmap of these variables.\n",
        "\n",
        "**What's the most correlated variable with MEDV?**\n"
      ]
    },
    {
      "cell_type": "code",
      "metadata": {
        "id": "mpPMqeZ37esY",
        "colab": {
          "base_uri": "https://localhost:8080/",
          "height": 504
        },
        "outputId": "11a8482b-f187-4bd6-8097-242f03399c66"
      },
      "source": [
        "import seaborn as sb\n",
        "\n",
        "correlation_matrix = boston.corr().round(2)\n",
        "plt.figure(figsize=(10,8))\n",
        "sb.heatmap(data=correlation_matrix, annot=True, center=0.0, cmap='coolwarm')"
      ],
      "execution_count": null,
      "outputs": [
        {
          "output_type": "execute_result",
          "data": {
            "text/plain": [
              "<matplotlib.axes._subplots.AxesSubplot at 0x7fe1f1c91590>"
            ]
          },
          "metadata": {
            "tags": []
          },
          "execution_count": 4
        },
        {
          "output_type": "display_data",
          "data": {
            "image/png": "[encoded data removed]",
            "text/plain": [
              "<Figure size 720x576 with 2 Axes>"
            ]
          },
          "metadata": {
            "tags": [],
            "needs_background": "light"
          }
        }
      ]
    },
    {
      "cell_type": "markdown",
      "metadata": {
        "id": "hN-4LVKcM3Hp"
      },
      "source": [
        "Note that the most correlated variable is LSTAT (at -0.74) and not RM (0.70) - while the correlation is negative, it just means that there is an inverse relationship between LSTAT and MEDV (when LSTAT goes up, MEDV goes down), but LSTAT should be the single best predictor.\n",
        "\n",
        "**1.4:** Now, we kind of cheated there, since we figured out the correlation on the entire dataset.  A better practice is to randomly select training and test sets, fit the data on the training set, and then evaluate on the test set.  Let's see if LSTAT really is a better predictor than RM of MEDV."
      ]
    },
    {
      "cell_type": "code",
      "metadata": {
        "id": "rHsrFaJf8WvS"
      },
      "source": [
        "from sklearn.linear_model import LinearRegression\n",
        "from sklearn.model_selection import train_test_split\n",
        "from sklearn.metrics import mean_squared_error, r2_score\n",
        "\n",
        "# first, set up dataframe for all variables\n",
        "boston_totaldata = pd.DataFrame(boston_dataset.data, columns=boston_dataset.feature_names)\n",
        "boston_totaltarget = boston_dataset.target\n",
        "\n",
        "boston_traindata, boston_testdata, boston_traintarget, boston_testtarget = train_test_split(boston_totaldata,\n",
        "                                                                                           boston_totaltarget,\n",
        "                                                                                           test_size=0.2,\n",
        "                                                                                           random_state=5)\n",
        "#\"random_state\" sets the random seed used when dividing the datasets. Setting it to a fixed number like this means\n",
        "#we will get the same \"random\" split every time. If you truly want random, remove this argument"
      ],
      "execution_count": null,
      "outputs": []
    },
    {
      "cell_type": "code",
      "metadata": {
        "id": "koimxdTnPJYr",
        "colab": {
          "base_uri": "https://localhost:8080/"
        },
        "outputId": "9d47f064-9388-481a-a726-672decadb28c"
      },
      "source": [
        "boston_traindata.shape"
      ],
      "execution_count": null,
      "outputs": [
        {
          "output_type": "execute_result",
          "data": {
            "text/plain": [
              "(404, 13)"
            ]
          },
          "metadata": {
            "tags": []
          },
          "execution_count": 6
        }
      ]
    },
    {
      "cell_type": "code",
      "metadata": {
        "id": "r8roAOT6Pd0f",
        "colab": {
          "base_uri": "https://localhost:8080/"
        },
        "outputId": "2c5edc6f-7134-4ec6-ef13-2816e00aebe5"
      },
      "source": [
        "boston_testdata.shape"
      ],
      "execution_count": null,
      "outputs": [
        {
          "output_type": "execute_result",
          "data": {
            "text/plain": [
              "(102, 13)"
            ]
          },
          "metadata": {
            "tags": []
          },
          "execution_count": 7
        }
      ]
    },
    {
      "cell_type": "code",
      "metadata": {
        "id": "IF_qw_msPkkJ",
        "colab": {
          "base_uri": "https://localhost:8080/"
        },
        "outputId": "1a0d336a-bd3f-4774-859a-731ac7b46e38"
      },
      "source": [
        "# subselect LSTAT data, train model\n",
        "#   note the double square brackets - need 2-dimensional array to come out of selection\n",
        "lstat_traindata=boston_traindata[['LSTAT']]\n",
        "lstat_testdata=boston_testdata[['LSTAT']]\n",
        "lin_model = LinearRegression()\n",
        "t0 = time.time()\n",
        "lin_model.fit(boston_traindata,boston_traintarget)\n",
        "print(time.time() - t0)"
      ],
      "execution_count": null,
      "outputs": [
        {
          "output_type": "stream",
          "text": [
            "0.0025932788848876953\n"
          ],
          "name": "stdout"
        }
      ]
    },
    {
      "cell_type": "code",
      "metadata": {
        "id": "AWDGQYlsQpqX",
        "colab": {
          "base_uri": "https://localhost:8080/"
        },
        "outputId": "eb37aa99-fb34-4499-e218-fa5d46754cd9"
      },
      "source": [
        "lstat_testpredict=lin_model.predict(boston_testdata)\n",
        "rmse = (np.sqrt(mean_squared_error(boston_testtarget,lstat_testpredict)))\n",
        "r2 = r2_score(boston_testtarget,lstat_testpredict)\n",
        "print('Test RMSE = {}, Test R2 = {}'.format(rmse,r2))"
      ],
      "execution_count": null,
      "outputs": [
        {
          "output_type": "stream",
          "text": [
            "Test RMSE = 4.568292042303217, Test R2 = 0.7334492147453064\n"
          ],
          "name": "stdout"
        }
      ]
    },
    {
      "cell_type": "markdown",
      "metadata": {
        "id": "4Uxds-NwjrVZ"
      },
      "source": [
        "*Note:* We do no normalizing here because sklearn will do it for us, if necessary\n",
        "\n",
        "R2 is the amount of variation explained by the model, and can range from 0 (no variance explained) to 1 (perfect explanation).\n",
        "\n",
        "*Something for you to think about:* Notice that R2 is much lower than the correlation coefficient.  Why? (There are 2 reasons.)\n",
        "\n",
        "**1.4a:** Let's do it again for RM (this time, you calculate it)."
      ]
    },
    {
      "cell_type": "code",
      "metadata": {
        "id": "8MpXx-55QsBG",
        "colab": {
          "base_uri": "https://localhost:8080/"
        },
        "outputId": "df42ef81-5fbe-4bd1-8b1a-670a54c82dc7"
      },
      "source": [
        "# Copy and modify the example above to predict using RM (instead of LSTAT)\n",
        "# Of course, also calculate RMSE and R2 for the new prediction\n",
        "rm_traindata = boston_traindata[['RM']]\n",
        "rm_testdata = boston_testdata[['RM']]\n",
        "\n",
        "lin_model.fit(rm_traindata, boston_traintarget)\n",
        "\n",
        "rm_testprediction = lin_model.predict(rm_testdata)\n",
        "rm_rmse = (np.sqrt(mean_squared_error(boston_testtarget, rm_testdata)))\n",
        "rm_r2 = r2_score(boston_testtarget, rm_testprediction)\n",
        "\n",
        "print ('Test RMSE = {}, Test R2 = {}'.format(rm_rmse,rm_r2))\n",
        "\n"
      ],
      "execution_count": null,
      "outputs": [
        {
          "output_type": "stream",
          "text": [
            "Test RMSE = 17.828536643621124, Test R2 = 0.6938399401553497\n"
          ],
          "name": "stdout"
        }
      ]
    },
    {
      "cell_type": "markdown",
      "metadata": {
        "id": "3pJ13awBkk3-"
      },
      "source": [
        "(Note: answers for why R2 is lower that correlation is that (a) it's roughly the square of correlation, and also (b) we calculated correlation on the entire training set; R2 was calculated on test only.)"
      ]
    },
    {
      "cell_type": "markdown",
      "metadata": {
        "id": "By0YSrH8k8CQ"
      },
      "source": [
        "**1.5:** At this point, you can start to look at how to predict from multiple variables.  What are the two best variables in predicting as measured by R2? (Try every possible variable pair.)\n",
        "\n",
        "Are the results better than predicting using all variables?"
      ]
    },
    {
      "cell_type": "code",
      "metadata": {
        "id": "8cHvWvcrnQ-I",
        "colab": {
          "base_uri": "https://localhost:8080/",
          "height": 231
        },
        "outputId": "8d319419-d3db-4bcd-bfe1-e1c79eed09c5"
      },
      "source": [
        "# Getting max r2 of every pair\n",
        "\n",
        "max_r2 = 0\n",
        "best_pair = []\n",
        "\n",
        "for i in range(len(boston_dataset.feature_names) - 1):\n",
        "  for j in range(i + 1, len(boston_dataset.feature_names)):\n",
        "    mv_traindata = boston_traindata[[boston_dataset.feature_names[i], boston_dataset.feature_names[j]]]\n",
        "    mv_testdata = boston_testdata[[boston_dataset.feature_names[i], boston_dataset.feature_names[j]]]\n",
        "\n",
        "    lin_model.fit(mv_traindata, boston_traintarget)\n",
        "\n",
        "    mv_testprediction = lin_model.predict(mv_testdata)\n",
        "    mv_r2 = r2_score(boston_testtarget, mv_testprediction)\n",
        "    if mv_r2 > max_r2:\n",
        "      max_r2 = mv_r2\n",
        "      best_pair = [boston_dataset.feature_names[i], boston_dataset.feature_names[j]]\n",
        "print(', '.join(best_pair), ':', max_r2)\n",
        "\n",
        "# Gettign r2 of all vars\n",
        "all_traindata = boston_traindata[boston_dataset.feature_names]\n",
        "all_testdata = boston_testdata[boston_dataset.feature_names]\n",
        "\n",
        "lin_model.fit(all_traindata, boston_traintarget)\n",
        "\n",
        "all_testprediction = lin_model.predict(all_testdata)\n",
        "all_r2 = r2_score(boston_testtarget, all_testprediction)\n",
        "\n",
        "print('All variables :', all_r2)\n"
      ],
      "execution_count": null,
      "outputs": [
        {
          "output_type": "error",
          "ename": "NameError",
          "evalue": "ignored",
          "traceback": [
            "\u001b[0;31m---------------------------------------------------------------------------\u001b[0m",
            "\u001b[0;31mNameError\u001b[0m                                 Traceback (most recent call last)",
            "\u001b[0;32m<ipython-input-1-554ebe491e4e>\u001b[0m in \u001b[0;36m<module>\u001b[0;34m()\u001b[0m\n\u001b[1;32m      4\u001b[0m \u001b[0mbest_pair\u001b[0m \u001b[0;34m=\u001b[0m \u001b[0;34m[\u001b[0m\u001b[0;34m]\u001b[0m\u001b[0;34m\u001b[0m\u001b[0;34m\u001b[0m\u001b[0m\n\u001b[1;32m      5\u001b[0m \u001b[0;34m\u001b[0m\u001b[0m\n\u001b[0;32m----> 6\u001b[0;31m \u001b[0;32mfor\u001b[0m \u001b[0mi\u001b[0m \u001b[0;32min\u001b[0m \u001b[0mrange\u001b[0m\u001b[0;34m(\u001b[0m\u001b[0mlen\u001b[0m\u001b[0;34m(\u001b[0m\u001b[0mboston_dataset\u001b[0m\u001b[0;34m.\u001b[0m\u001b[0mfeature_names\u001b[0m\u001b[0;34m)\u001b[0m \u001b[0;34m-\u001b[0m \u001b[0;36m1\u001b[0m\u001b[0;34m)\u001b[0m\u001b[0;34m:\u001b[0m\u001b[0;34m\u001b[0m\u001b[0;34m\u001b[0m\u001b[0m\n\u001b[0m\u001b[1;32m      7\u001b[0m   \u001b[0;32mfor\u001b[0m \u001b[0mj\u001b[0m \u001b[0;32min\u001b[0m \u001b[0mrange\u001b[0m\u001b[0;34m(\u001b[0m\u001b[0mi\u001b[0m \u001b[0;34m+\u001b[0m \u001b[0;36m1\u001b[0m\u001b[0;34m,\u001b[0m \u001b[0mlen\u001b[0m\u001b[0;34m(\u001b[0m\u001b[0mboston_dataset\u001b[0m\u001b[0;34m.\u001b[0m\u001b[0mfeature_names\u001b[0m\u001b[0;34m)\u001b[0m\u001b[0;34m)\u001b[0m\u001b[0;34m:\u001b[0m\u001b[0;34m\u001b[0m\u001b[0;34m\u001b[0m\u001b[0m\n\u001b[1;32m      8\u001b[0m     \u001b[0mmv_traindata\u001b[0m \u001b[0;34m=\u001b[0m \u001b[0mboston_traindata\u001b[0m\u001b[0;34m[\u001b[0m\u001b[0;34m[\u001b[0m\u001b[0mboston_dataset\u001b[0m\u001b[0;34m.\u001b[0m\u001b[0mfeature_names\u001b[0m\u001b[0;34m[\u001b[0m\u001b[0mi\u001b[0m\u001b[0;34m]\u001b[0m\u001b[0;34m,\u001b[0m \u001b[0mboston_dataset\u001b[0m\u001b[0;34m.\u001b[0m\u001b[0mfeature_names\u001b[0m\u001b[0;34m[\u001b[0m\u001b[0mj\u001b[0m\u001b[0;34m]\u001b[0m\u001b[0;34m]\u001b[0m\u001b[0;34m]\u001b[0m\u001b[0;34m\u001b[0m\u001b[0;34m\u001b[0m\u001b[0m\n",
            "\u001b[0;31mNameError\u001b[0m: name 'boston_dataset' is not defined"
          ]
        }
      ]
    },
    {
      "cell_type": "markdown",
      "metadata": {
        "id": "V7FHp8Qn2zOl"
      },
      "source": [
        "---\n",
        "---\n",
        "**Part 2: Predicting Gene Expression (40 pts)**\n",
        "\n",
        "There are ~20,000 genes in the human genome. Each one of them is transcribed to mRNA and then translated to proteins which carry on various tasks inside our body. We can measure the amount of 20,000 mRNA expressed in samples collected from different organs. This collection is called _gene expression profile_.\n",
        "\n",
        "Although our genome is the same across all cell types, the gene expression profile is different because each organ needs different proteins for its survival. One of the regulatory mechanisms which controls the expression level in each cell type is microRNA (miR). MicroRNAs are small molecules which attach to mRNAs and prevent them from translation to proteins and also degrade them.\n",
        "\n",
        "So if miR A targets mRNA B when A increases B decreases. Our goal is to predict mRNA levels (gene expression profile) using 21 miR features. Note that each of the 20,000 expression levels can be a response of regression with 21 features. To simplify, we have selected a few genes to predict their expression.\n",
        "\n",
        "Your job will be to investigate how well the miR values predict the mRNA values.  \n",
        "\n",
        "You are recommended to use the sklearn.linear_model package to conduct linear regression experiments, but you may use other packages if you wish.  \n",
        "\n",
        "**Instructions:** Load the data from GitHub (example code given).\n",
        "\n",
        "**Hint:** Part 1 of this lab (Boston Housing) has examples of how to do almost everything you need for this part. Please review it carefully."
      ]
    },
    {
      "cell_type": "code",
      "metadata": {
        "id": "Hu-wHw6wFTYv",
        "colab": {
          "base_uri": "https://localhost:8080/"
        },
        "outputId": "42cde40c-5a32-4b74-a9d5-0b721cb71b8b"
      },
      "source": [
        "miR_URL='https://raw.githubusercontent.com/efosler/cse5522data/master/miRScore-x.csv'\n",
        "miR_df=pd.read_csv(miR_URL)\n",
        "# remove row names from the first column, rows=samples, cols=miR features\n",
        "miR = np.array(miR_df)[:,1:]\n",
        "\n",
        "mRNA_well_URL='https://raw.githubusercontent.com/efosler/cse5522data/master/mRNA-y-well-explained.csv'\n",
        "mRNA_well_df=pd.read_csv(mRNA_well_URL)\n",
        "# remove label column, transpose with rows=samples, cols=mRNA\n",
        "mRNA_well = np.transpose(np.array(mRNA_well_df)[:,1:8896])\n",
        "\n",
        "mRNA_poor_URL='https://raw.githubusercontent.com/efosler/cse5522data/master/mRNA-y-poor-explained.csv'\n",
        "mRNA_poor_df=pd.read_csv(mRNA_poor_URL)\n",
        "# remove label column, transpose with rows=samples, cols=mRNA\n",
        "mRNA_poor = np.transpose(np.array(mRNA_poor_df)[:,1:8896])\n",
        "\n",
        "print (mRNA_poor.shape)\n",
        "print (mRNA_well.shape)\n",
        "print (miR.shape)"
      ],
      "execution_count": null,
      "outputs": [
        {
          "output_type": "stream",
          "text": [
            "(8895, 20)\n",
            "(8895, 35)\n",
            "(8895, 21)\n"
          ],
          "name": "stdout"
        }
      ]
    },
    {
      "cell_type": "markdown",
      "metadata": {
        "id": "4r6mQ3apXE89"
      },
      "source": [
        "You should randomly divide the samples into 80/20 training/test splits, and repeat the experiment 10 times to give mean and standard deviation of the metrics.\n",
        "\n",
        "**2.1:** Using the *miR* features, predict each of the well-expressed (*mRNA_well*) and poorly-expressed (*mRNA_poor*) genes with a linear model. This means you will be solving 55 separate linear regression problems (one each for 35 well-expressed + 20 poorly expressed).\n",
        "\n",
        "Perform 10 experiments of the above using a different training/test split each time. Report the the mean and standard deviation (over the 10 experiments) for each of the 55 mRNA targets for both the R2 and RMSE metrics.\n",
        "\n",
        "*Note:* This means in total you will be building/training 550 different models!"
      ]
    },
    {
      "cell_type": "code",
      "metadata": {
        "id": "xFD0JpVzLTps"
      },
      "source": [
        "# Carry on from this point on your own, using the Boston Housing problem as a guide\n",
        "for i in range(10):\n",
        "  miR_well_train_data, miR_well_train_target, miR_well_test_data\n",
        "  all_traindata = boston_traindata[boston_dataset.feature_names]\n",
        "  all_testdata = boston_testdata[boston_dataset.feature_names]\n",
        "\n",
        "  lin_model.fit(all_traindata, boston_traintarget)\n",
        "\n",
        "  all_testprediction = lin_model.predict(all_testdata)\n",
        "  all_r2 = r2_score(boston_testtarget, all_testprediction)\n"
      ],
      "execution_count": null,
      "outputs": []
    },
    {
      "cell_type": "markdown",
      "metadata": {
        "id": "bAV5Nq79Yggc"
      },
      "source": [
        "**2.2:** Visualize and compare the performance of the well expressed gene set to the poorly expressed gene set using R2.  Draw histograms of the R2s for both sets on the same plot; one histogram comparison should be done for train and one for test. (matplotlib has builtin histogram-drawing functions, see the documentation.)\n",
        "\n",
        "Describe the differences you see across the well and poorly expressed gene sets."
      ]
    },
    {
      "cell_type": "code",
      "metadata": {
        "id": "msGn9zo9YqSD"
      },
      "source": [
        "# Your code here"
      ],
      "execution_count": null,
      "outputs": []
    },
    {
      "cell_type": "markdown",
      "metadata": {
        "id": "LFMhg2Q1Yto7"
      },
      "source": [
        "**2.3:** In this part, we want to add a categorical feature as the 22nd predictor. Tissue type is an important factor in explaining the gene expression profile. Our samples come from 32 tissue types which are provided to you in a separate file. Use dummy variable coding to include the tissue type in your regression.  \n",
        "\n",
        "Recall that in dummy variable coding of categorical variable X with n levels, we add n - 1 columns to our features. The first level is coded as zero and then for each level, we set one of the columns to 1. For example, if we have a categorical feature for \"Direction\" with four levels \"South, West, North, East\" the following codes are required:\n",
        "\n",
        "|                         | West | North | East |\n",
        "|-------------------------|:----:|:-----:|:----:|\n",
        "| Code if Direction=South |   0  |   0   |   0  |\n",
        "| Code if Direction=West  |   1  |   0   |   0  |\n",
        "| Code if Direction=North |   0  |   1   |   0  |\n",
        "| Code if Direction=East  |   0  |   0   |   1  |\n",
        "\n",
        "So for 32 values for the \"Tissue\" feature, you need to add 31 columns to your feature (design) matrix. With the newly added feature(s) run the linear regressions again with the 80/20 split and report any change in prediction performance of your model. Also, please *try* to find an explaination for any change in performance you see."
      ]
    },
    {
      "cell_type": "code",
      "metadata": {
        "id": "Xt1MqYDrZCA7"
      },
      "source": [
        "# Load tissue data\n",
        "tissue_type_URL='https://github.com/efosler/cse5522data/raw/master/cancerType-x-Categorical.csv'\n",
        "tissue_dataframe=pd.read_csv(tissue_type_URL)\n",
        "tissue_dataframe.head()"
      ],
      "execution_count": null,
      "outputs": []
    },
    {
      "cell_type": "code",
      "metadata": {
        "id": "J7hHn-zkZCYE"
      },
      "source": [
        "#Your code here"
      ],
      "execution_count": null,
      "outputs": []
    },
    {
      "cell_type": "markdown",
      "metadata": {
        "id": "iJ65ksalaTWE"
      },
      "source": [
        "---\n",
        "---\n",
        "\n",
        "**Part 3: Logistic Regression (40 points)**\n",
        "\n",
        "In this exercise, you will implement logistic regression by gradient descent.  You <u>should not</u> use off the shelf logistic regression solvers for this problem. (Though you may use them to check your work.) This will also exercise your data skills, so you may want to read up on the pandas toolkit.\n",
        "\n",
        "Problem: you are given a dataset of 400 people; half female/half male, also half of the people are basketball players and half are not.   The data has three features: height (inches), weight (pounds), and female (0=male, 1=female).  The variable you want to predict is basketball player (0=non-player, 1=player)."
      ]
    },
    {
      "cell_type": "code",
      "metadata": {
        "id": "A9Zz6NTiB1Gf",
        "colab": {
          "base_uri": "https://localhost:8080/"
        },
        "outputId": "4138b592-1bea-4b4e-d3ad-4c3936d79a38"
      },
      "source": [
        "basketball_URL='https://raw.githubusercontent.com/efosler/cse5522data/master/height_vs_weight.csv'\n",
        "basketball_df=pd.read_csv(basketball_URL)\n",
        "print(basketball_df.head())\n",
        "\n",
        "basketball_df.height\n",
        "\n",
        "female_basketball_df = basketball_df[basketball_df.female=1]\n",
        "print(female_basketball_df.head())\n",
        "\n",
        "male_basketball_df = basketball_df[basketball_df.female=0]\n",
        "print(male_basketball_df.head())\n",
        "\n",
        "#You will need to extract the target and dependent/feature variables yourself\n",
        "#Refer to the previous parts for examples"
      ],
      "execution_count": null,
      "outputs": [
        {
          "output_type": "stream",
          "text": [
            "(320, 1)\n",
            "(80, 1)\n"
          ],
          "name": "stdout"
        }
      ]
    },
    {
      "cell_type": "markdown",
      "metadata": {
        "id": "jD2aviGwzT05"
      },
      "source": [
        "Implement gradient descent for logistic regression.  You may want to consult the notes in the regression model on logistic regression for help.\n",
        "\n",
        "Train the model on 80% of the data, reserving 20% for the test set.\n",
        "\n",
        "*Hint:* You can re-use a significant amount of your code from the first hands-on activity. (Alternately, you may also re-use code from the example solution I have provided for the first hands-on activity.)\n",
        "\n",
        "*Warning*: You may find it necessary to normalize the feature data, just like in first hands-on activity! However, unlike the hands-on, <u>do not</u> normalize the target data.\n",
        "\n",
        "**3.1:** Train the model first to predict the probability of basketball given height.   Evaluate on the test set in a few ways:\n",
        "\n",
        "Compute the average loss on the test set: $$-\\frac{1}{N}\\sum_{i-1}^N\\log\\left(target_i\\cdot P\\left(prediction_i\\right)\\:+\\:\\left(1-target_i\\right)\\left(1-P\\left(prediction_i\\right)\\right)\\right)$$\n",
        "\n",
        "(Note this is just a clever way to say use P(prediction) when target is 1, 1-P(prediction) when target is 0.)\n",
        "\n",
        "Compute the accuracy on the test set by predicting someone is a basketball player if P(prediction) > 0.5.\n",
        "\n",
        "Plot the training data as well as the learned logistic regression function, on the same plot. (I'm looking for somthing similar to what is shown on Slide 29 of Week 2.)"
      ]
    },
    {
      "cell_type": "code",
      "metadata": {
        "id": "PpgAGmjzaaVq"
      },
      "source": [
        "def sigmoid(input):\n",
        "  return 1 / (1 + np.exp(-input))\n",
        "\n",
        "def gradient_descent(features, targets, max_iterations, learning_rate, convergence_cutoff):\n",
        "  # initialize a 0 value weight for all parameters we are using\n",
        "  weights = np.zeros(features.shape[1])\n",
        "  bias = 0\n",
        "\n",
        "  # set sample size to the amount of rows we have in our features\n",
        "  samples = features.shape[0]\n",
        "\n",
        "  for i in range(max_iterations):\n",
        "    # make a prediction using our sigmoid and our\n",
        "    # current values for the weights of our features and our intercept\n",
        "    prediction = sigmoid(np.dot(features, weights) + bias)\n",
        "\n",
        "    # adjust our weights and intercept bias based on prediction and target\n",
        "    change_in_weights = learning_rate * 1/samples * np.dot(features.T, prediction - targets)\n",
        "    change_in_bias = learning_rate * 1/size * np.sum(predictions - targets)\n",
        "\n",
        "    bias -= change_in_bias\n",
        "    weights -= change_in_weights\n",
        "\n",
        "    if i%10==0:\n",
        "      print('iteration {}: weights = {}, bias = {}', i, weights, bias)\n",
        "\n",
        "    # check if our changes are all less than our cutoff value and if so we return early\n",
        "    if (all(abs(change) < convergence_cutoff for change in change_in_weights + change_in_bias)):\n",
        "      return bias, weights\n",
        "\n",
        "\n",
        "  return bias, weights\n",
        "\n",
        "\n",
        "def train_on_heights(dataframe):\n",
        "  basketball_train_data, basketball_test_data, basketball_train_target, basketball_test_target = train_test_split(dataframe[['height']], dataframe['basketball'], test_size=0.2)\n",
        "  max_iterations = 1000\n",
        "  learning_rate = 0.00001\n",
        "  convergence_cutoff = 0\n",
        "\n",
        "  bias, weights = gradient_descent(basketball_train_data, basketball_train_target, max_iterations, learning_rate, convergence_cutoff)\n",
        "  print(\"final: \", bias, weights)\n"
      ],
      "execution_count": null,
      "outputs": []
    },
    {
      "cell_type": "markdown",
      "metadata": {
        "id": "UPfbTzMgCXYB"
      },
      "source": [
        "**3.2:**  Now train the model to be gender dependent by incorporating both the height and female features.  Evaluate on the same test set with average loss and accuracy.\n",
        "\n",
        "Plot the logistic regression function across heights for male and female. (In other words, you will now plot two sigmoid curves, one for when gender=0, and one for when gender=1.)\n",
        "\n",
        "Do the learned functions make sense relative to one another? Explain."
      ]
    },
    {
      "cell_type": "code",
      "metadata": {
        "id": "a4GbbvxNCZ4N"
      },
      "source": [
        "#Your code here"
      ],
      "execution_count": null,
      "outputs": []
    },
    {
      "cell_type": "markdown",
      "metadata": {
        "id": "xo-IlYSjCe42"
      },
      "source": [
        "**3.3:** Incorporate the weight feature (training (height, weight) and (height, weight, gender)). Evaluate on average loss and accuracy.  Does weight help as a feature?"
      ]
    },
    {
      "cell_type": "code",
      "metadata": {
        "id": "Dom0ml3UCiIM"
      },
      "source": [
        "#Your code here"
      ],
      "execution_count": null,
      "outputs": []
    },
    {
      "cell_type": "markdown",
      "metadata": {
        "id": "3ZY1RoFWaqYi"
      },
      "source": [
        "---\n",
        "---\n",
        "\n",
        "**Submission:**\n",
        "\n",
        "All code must be written in Python. Submit all files needed for the TA to grade.  You can choose one of two methods:\n",
        "\n",
        "* iPython notebook: you can document your code and provide the written answers within the iPython notebook.  Please indicate your name at the top.  Also, if you are using Google Colab (or other online iPython notebook services), please download submit the ipynb file. (*Do not submit a link to the file.*)\n",
        "\n",
        "* Zip archive: make sure to include both your writeup and the code, as well as instructions on how to execute the code. (Ideally, we would prefer that you ensure your code can run on the CSE stdlinux.cse.ohio-state.edu system, and your instructions are tailored to getting it running on said system. In general please avoid using any packages other than those mentioned in the lab itself and try not to do anything too tricky or unusual with regards to running your code.)\n",
        "\n",
        "You may ask colleagues for general understanding assistance but do not share code.  You may start, however, from the hands-on code as a jumping off point.  Please do not copy code from the internet in developing your answer."
      ]
    }
  ]
}